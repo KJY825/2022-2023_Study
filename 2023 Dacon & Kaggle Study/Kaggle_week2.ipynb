{
 "cells": [
  {
   "cell_type": "code",
   "execution_count": 1,
   "id": "db152e90",
   "metadata": {
    "_cell_guid": "b1076dfc-b9ad-4769-8c92-a6c4dae69d19",
    "_uuid": "8f2839f25d086af736a60e9eeb907d3b93b6e0e5",
    "execution": {
     "iopub.execute_input": "2023-05-24T05:35:53.998039Z",
     "iopub.status.busy": "2023-05-24T05:35:53.997283Z",
     "iopub.status.idle": "2023-05-24T05:35:55.479469Z",
     "shell.execute_reply": "2023-05-24T05:35:55.477517Z"
    },
    "papermill": {
     "duration": 1.505548,
     "end_time": "2023-05-24T05:35:55.482510",
     "exception": false,
     "start_time": "2023-05-24T05:35:53.976962",
     "status": "completed"
    },
    "tags": []
   },
   "outputs": [
    {
     "name": "stderr",
     "output_type": "stream",
     "text": [
      "/opt/conda/lib/python3.10/site-packages/scipy/__init__.py:146: UserWarning: A NumPy version >=1.16.5 and <1.23.0 is required for this version of SciPy (detected version 1.23.5\n",
      "  warnings.warn(f\"A NumPy version >={np_minversion} and <{np_maxversion}\"\n",
      "/tmp/ipykernel_21/2012665112.py:6: MatplotlibDeprecationWarning: The seaborn styles shipped by Matplotlib are deprecated since 3.6, as they no longer correspond to the styles shipped by seaborn. However, they will remain available as 'seaborn-v0_8-<style>'. Alternatively, directly use the seaborn API instead.\n",
      "  plt.style.use('seaborn')\n"
     ]
    }
   ],
   "source": [
    "import numpy as np\n",
    "import pandas as pd\n",
    "import matplotlib.pyplot as plt\n",
    "import seaborn as sns\n",
    "\n",
    "plt.style.use('seaborn')\n",
    "# Matplotlib에도 다양한 형태가 존재 -> seaborn 형태로 사용하겠다는 내용\n",
    "sns.set(font_scale=2.5)\n",
    "# size 2.5 정도하면 크게 나옴\n",
    "\n",
    "import missingno as msno\n",
    "# NULL 데이터 쉽게 보기 위해서 씀\n",
    "\n",
    "import warnings\n",
    "warnings.filterwarnings('ignore')\n",
    "# warning 무시\n",
    "\n",
    "%matplotlib inline"
   ]
  },
  {
   "cell_type": "code",
   "execution_count": 2,
   "id": "ed5d12d9",
   "metadata": {
    "execution": {
     "iopub.execute_input": "2023-05-24T05:35:55.506000Z",
     "iopub.status.busy": "2023-05-24T05:35:55.504573Z",
     "iopub.status.idle": "2023-05-24T05:35:55.540135Z",
     "shell.execute_reply": "2023-05-24T05:35:55.538346Z"
    },
    "papermill": {
     "duration": 0.050036,
     "end_time": "2023-05-24T05:35:55.542922",
     "exception": false,
     "start_time": "2023-05-24T05:35:55.492886",
     "status": "completed"
    },
    "tags": []
   },
   "outputs": [],
   "source": [
    "df_train = pd.read_csv('/kaggle/input/titanic/train.csv')\n",
    "df_test = pd.read_csv('/kaggle/input/titanic/test.csv')"
   ]
  },
  {
   "cell_type": "code",
   "execution_count": 3,
   "id": "2ee0aeb0",
   "metadata": {
    "execution": {
     "iopub.execute_input": "2023-05-24T05:35:55.566093Z",
     "iopub.status.busy": "2023-05-24T05:35:55.565659Z",
     "iopub.status.idle": "2023-05-24T05:35:55.603855Z",
     "shell.execute_reply": "2023-05-24T05:35:55.602041Z"
    },
    "papermill": {
     "duration": 0.053096,
     "end_time": "2023-05-24T05:35:55.606676",
     "exception": false,
     "start_time": "2023-05-24T05:35:55.553580",
     "status": "completed"
    },
    "tags": []
   },
   "outputs": [
    {
     "data": {
      "text/html": [
       "<div>\n",
       "<style scoped>\n",
       "    .dataframe tbody tr th:only-of-type {\n",
       "        vertical-align: middle;\n",
       "    }\n",
       "\n",
       "    .dataframe tbody tr th {\n",
       "        vertical-align: top;\n",
       "    }\n",
       "\n",
       "    .dataframe thead th {\n",
       "        text-align: right;\n",
       "    }\n",
       "</style>\n",
       "<table border=\"1\" class=\"dataframe\">\n",
       "  <thead>\n",
       "    <tr style=\"text-align: right;\">\n",
       "      <th></th>\n",
       "      <th>PassengerId</th>\n",
       "      <th>Survived</th>\n",
       "      <th>Pclass</th>\n",
       "      <th>Name</th>\n",
       "      <th>Sex</th>\n",
       "      <th>Age</th>\n",
       "      <th>SibSp</th>\n",
       "      <th>Parch</th>\n",
       "      <th>Ticket</th>\n",
       "      <th>Fare</th>\n",
       "      <th>Cabin</th>\n",
       "      <th>Embarked</th>\n",
       "    </tr>\n",
       "  </thead>\n",
       "  <tbody>\n",
       "    <tr>\n",
       "      <th>0</th>\n",
       "      <td>1</td>\n",
       "      <td>0</td>\n",
       "      <td>3</td>\n",
       "      <td>Braund, Mr. Owen Harris</td>\n",
       "      <td>male</td>\n",
       "      <td>22.0</td>\n",
       "      <td>1</td>\n",
       "      <td>0</td>\n",
       "      <td>A/5 21171</td>\n",
       "      <td>7.2500</td>\n",
       "      <td>NaN</td>\n",
       "      <td>S</td>\n",
       "    </tr>\n",
       "    <tr>\n",
       "      <th>1</th>\n",
       "      <td>2</td>\n",
       "      <td>1</td>\n",
       "      <td>1</td>\n",
       "      <td>Cumings, Mrs. John Bradley (Florence Briggs Th...</td>\n",
       "      <td>female</td>\n",
       "      <td>38.0</td>\n",
       "      <td>1</td>\n",
       "      <td>0</td>\n",
       "      <td>PC 17599</td>\n",
       "      <td>71.2833</td>\n",
       "      <td>C85</td>\n",
       "      <td>C</td>\n",
       "    </tr>\n",
       "    <tr>\n",
       "      <th>2</th>\n",
       "      <td>3</td>\n",
       "      <td>1</td>\n",
       "      <td>3</td>\n",
       "      <td>Heikkinen, Miss. Laina</td>\n",
       "      <td>female</td>\n",
       "      <td>26.0</td>\n",
       "      <td>0</td>\n",
       "      <td>0</td>\n",
       "      <td>STON/O2. 3101282</td>\n",
       "      <td>7.9250</td>\n",
       "      <td>NaN</td>\n",
       "      <td>S</td>\n",
       "    </tr>\n",
       "    <tr>\n",
       "      <th>3</th>\n",
       "      <td>4</td>\n",
       "      <td>1</td>\n",
       "      <td>1</td>\n",
       "      <td>Futrelle, Mrs. Jacques Heath (Lily May Peel)</td>\n",
       "      <td>female</td>\n",
       "      <td>35.0</td>\n",
       "      <td>1</td>\n",
       "      <td>0</td>\n",
       "      <td>113803</td>\n",
       "      <td>53.1000</td>\n",
       "      <td>C123</td>\n",
       "      <td>S</td>\n",
       "    </tr>\n",
       "    <tr>\n",
       "      <th>4</th>\n",
       "      <td>5</td>\n",
       "      <td>0</td>\n",
       "      <td>3</td>\n",
       "      <td>Allen, Mr. William Henry</td>\n",
       "      <td>male</td>\n",
       "      <td>35.0</td>\n",
       "      <td>0</td>\n",
       "      <td>0</td>\n",
       "      <td>373450</td>\n",
       "      <td>8.0500</td>\n",
       "      <td>NaN</td>\n",
       "      <td>S</td>\n",
       "    </tr>\n",
       "  </tbody>\n",
       "</table>\n",
       "</div>"
      ],
      "text/plain": [
       "   PassengerId  Survived  Pclass  \\\n",
       "0            1         0       3   \n",
       "1            2         1       1   \n",
       "2            3         1       3   \n",
       "3            4         1       1   \n",
       "4            5         0       3   \n",
       "\n",
       "                                                Name     Sex   Age  SibSp  \\\n",
       "0                            Braund, Mr. Owen Harris    male  22.0      1   \n",
       "1  Cumings, Mrs. John Bradley (Florence Briggs Th...  female  38.0      1   \n",
       "2                             Heikkinen, Miss. Laina  female  26.0      0   \n",
       "3       Futrelle, Mrs. Jacques Heath (Lily May Peel)  female  35.0      1   \n",
       "4                           Allen, Mr. William Henry    male  35.0      0   \n",
       "\n",
       "   Parch            Ticket     Fare Cabin Embarked  \n",
       "0      0         A/5 21171   7.2500   NaN        S  \n",
       "1      0          PC 17599  71.2833   C85        C  \n",
       "2      0  STON/O2. 3101282   7.9250   NaN        S  \n",
       "3      0            113803  53.1000  C123        S  \n",
       "4      0            373450   8.0500   NaN        S  "
      ]
     },
     "execution_count": 3,
     "metadata": {},
     "output_type": "execute_result"
    }
   ],
   "source": [
    "df_train.head()"
   ]
  },
  {
   "cell_type": "markdown",
   "id": "b5d6735b",
   "metadata": {
    "papermill": {
     "duration": 0.01076,
     "end_time": "2023-05-24T05:35:55.627816",
     "exception": false,
     "start_time": "2023-05-24T05:35:55.617056",
     "status": "completed"
    },
    "tags": []
   },
   "source": [
    "Pclass : 티켓의 클래스\n",
    "\n",
    "sibSp : 함께 탑승한 형제와 배우자의 수\n",
    "\n",
    "parch : 함께 탑승한 부모, 아이의 수\n",
    "\n",
    "fare : 탑승료\n",
    "\n",
    "cabin : 객실 번호"
   ]
  },
  {
   "cell_type": "code",
   "execution_count": 4,
   "id": "dd71aa74",
   "metadata": {
    "execution": {
     "iopub.execute_input": "2023-05-24T05:35:55.650701Z",
     "iopub.status.busy": "2023-05-24T05:35:55.650298Z",
     "iopub.status.idle": "2023-05-24T05:35:55.685415Z",
     "shell.execute_reply": "2023-05-24T05:35:55.684244Z"
    },
    "papermill": {
     "duration": 0.050932,
     "end_time": "2023-05-24T05:35:55.688803",
     "exception": false,
     "start_time": "2023-05-24T05:35:55.637871",
     "status": "completed"
    },
    "tags": []
   },
   "outputs": [
    {
     "data": {
      "text/html": [
       "<div>\n",
       "<style scoped>\n",
       "    .dataframe tbody tr th:only-of-type {\n",
       "        vertical-align: middle;\n",
       "    }\n",
       "\n",
       "    .dataframe tbody tr th {\n",
       "        vertical-align: top;\n",
       "    }\n",
       "\n",
       "    .dataframe thead th {\n",
       "        text-align: right;\n",
       "    }\n",
       "</style>\n",
       "<table border=\"1\" class=\"dataframe\">\n",
       "  <thead>\n",
       "    <tr style=\"text-align: right;\">\n",
       "      <th></th>\n",
       "      <th>PassengerId</th>\n",
       "      <th>Survived</th>\n",
       "      <th>Pclass</th>\n",
       "      <th>Age</th>\n",
       "      <th>SibSp</th>\n",
       "      <th>Parch</th>\n",
       "      <th>Fare</th>\n",
       "    </tr>\n",
       "  </thead>\n",
       "  <tbody>\n",
       "    <tr>\n",
       "      <th>count</th>\n",
       "      <td>891.000000</td>\n",
       "      <td>891.000000</td>\n",
       "      <td>891.000000</td>\n",
       "      <td>714.000000</td>\n",
       "      <td>891.000000</td>\n",
       "      <td>891.000000</td>\n",
       "      <td>891.000000</td>\n",
       "    </tr>\n",
       "    <tr>\n",
       "      <th>mean</th>\n",
       "      <td>446.000000</td>\n",
       "      <td>0.383838</td>\n",
       "      <td>2.308642</td>\n",
       "      <td>29.699118</td>\n",
       "      <td>0.523008</td>\n",
       "      <td>0.381594</td>\n",
       "      <td>32.204208</td>\n",
       "    </tr>\n",
       "    <tr>\n",
       "      <th>std</th>\n",
       "      <td>257.353842</td>\n",
       "      <td>0.486592</td>\n",
       "      <td>0.836071</td>\n",
       "      <td>14.526497</td>\n",
       "      <td>1.102743</td>\n",
       "      <td>0.806057</td>\n",
       "      <td>49.693429</td>\n",
       "    </tr>\n",
       "    <tr>\n",
       "      <th>min</th>\n",
       "      <td>1.000000</td>\n",
       "      <td>0.000000</td>\n",
       "      <td>1.000000</td>\n",
       "      <td>0.420000</td>\n",
       "      <td>0.000000</td>\n",
       "      <td>0.000000</td>\n",
       "      <td>0.000000</td>\n",
       "    </tr>\n",
       "    <tr>\n",
       "      <th>25%</th>\n",
       "      <td>223.500000</td>\n",
       "      <td>0.000000</td>\n",
       "      <td>2.000000</td>\n",
       "      <td>20.125000</td>\n",
       "      <td>0.000000</td>\n",
       "      <td>0.000000</td>\n",
       "      <td>7.910400</td>\n",
       "    </tr>\n",
       "    <tr>\n",
       "      <th>50%</th>\n",
       "      <td>446.000000</td>\n",
       "      <td>0.000000</td>\n",
       "      <td>3.000000</td>\n",
       "      <td>28.000000</td>\n",
       "      <td>0.000000</td>\n",
       "      <td>0.000000</td>\n",
       "      <td>14.454200</td>\n",
       "    </tr>\n",
       "    <tr>\n",
       "      <th>75%</th>\n",
       "      <td>668.500000</td>\n",
       "      <td>1.000000</td>\n",
       "      <td>3.000000</td>\n",
       "      <td>38.000000</td>\n",
       "      <td>1.000000</td>\n",
       "      <td>0.000000</td>\n",
       "      <td>31.000000</td>\n",
       "    </tr>\n",
       "    <tr>\n",
       "      <th>max</th>\n",
       "      <td>891.000000</td>\n",
       "      <td>1.000000</td>\n",
       "      <td>3.000000</td>\n",
       "      <td>80.000000</td>\n",
       "      <td>8.000000</td>\n",
       "      <td>6.000000</td>\n",
       "      <td>512.329200</td>\n",
       "    </tr>\n",
       "  </tbody>\n",
       "</table>\n",
       "</div>"
      ],
      "text/plain": [
       "       PassengerId    Survived      Pclass         Age       SibSp  \\\n",
       "count   891.000000  891.000000  891.000000  714.000000  891.000000   \n",
       "mean    446.000000    0.383838    2.308642   29.699118    0.523008   \n",
       "std     257.353842    0.486592    0.836071   14.526497    1.102743   \n",
       "min       1.000000    0.000000    1.000000    0.420000    0.000000   \n",
       "25%     223.500000    0.000000    2.000000   20.125000    0.000000   \n",
       "50%     446.000000    0.000000    3.000000   28.000000    0.000000   \n",
       "75%     668.500000    1.000000    3.000000   38.000000    1.000000   \n",
       "max     891.000000    1.000000    3.000000   80.000000    8.000000   \n",
       "\n",
       "            Parch        Fare  \n",
       "count  891.000000  891.000000  \n",
       "mean     0.381594   32.204208  \n",
       "std      0.806057   49.693429  \n",
       "min      0.000000    0.000000  \n",
       "25%      0.000000    7.910400  \n",
       "50%      0.000000   14.454200  \n",
       "75%      0.000000   31.000000  \n",
       "max      6.000000  512.329200  "
      ]
     },
     "execution_count": 4,
     "metadata": {},
     "output_type": "execute_result"
    }
   ],
   "source": [
    "df_train.describe()"
   ]
  },
  {
   "cell_type": "code",
   "execution_count": 5,
   "id": "03a73845",
   "metadata": {
    "execution": {
     "iopub.execute_input": "2023-05-24T05:35:55.714001Z",
     "iopub.status.busy": "2023-05-24T05:35:55.713372Z",
     "iopub.status.idle": "2023-05-24T05:35:55.746883Z",
     "shell.execute_reply": "2023-05-24T05:35:55.744779Z"
    },
    "papermill": {
     "duration": 0.048575,
     "end_time": "2023-05-24T05:35:55.749180",
     "exception": false,
     "start_time": "2023-05-24T05:35:55.700605",
     "status": "completed"
    },
    "tags": []
   },
   "outputs": [
    {
     "data": {
      "text/html": [
       "<div>\n",
       "<style scoped>\n",
       "    .dataframe tbody tr th:only-of-type {\n",
       "        vertical-align: middle;\n",
       "    }\n",
       "\n",
       "    .dataframe tbody tr th {\n",
       "        vertical-align: top;\n",
       "    }\n",
       "\n",
       "    .dataframe thead th {\n",
       "        text-align: right;\n",
       "    }\n",
       "</style>\n",
       "<table border=\"1\" class=\"dataframe\">\n",
       "  <thead>\n",
       "    <tr style=\"text-align: right;\">\n",
       "      <th></th>\n",
       "      <th>PassengerId</th>\n",
       "      <th>Survived</th>\n",
       "      <th>Pclass</th>\n",
       "      <th>Age</th>\n",
       "      <th>SibSp</th>\n",
       "      <th>Parch</th>\n",
       "      <th>Fare</th>\n",
       "    </tr>\n",
       "  </thead>\n",
       "  <tbody>\n",
       "    <tr>\n",
       "      <th>count</th>\n",
       "      <td>891.000000</td>\n",
       "      <td>891.000000</td>\n",
       "      <td>891.000000</td>\n",
       "      <td>714.000000</td>\n",
       "      <td>891.000000</td>\n",
       "      <td>891.000000</td>\n",
       "      <td>891.000000</td>\n",
       "    </tr>\n",
       "    <tr>\n",
       "      <th>mean</th>\n",
       "      <td>446.000000</td>\n",
       "      <td>0.383838</td>\n",
       "      <td>2.308642</td>\n",
       "      <td>29.699118</td>\n",
       "      <td>0.523008</td>\n",
       "      <td>0.381594</td>\n",
       "      <td>32.204208</td>\n",
       "    </tr>\n",
       "    <tr>\n",
       "      <th>std</th>\n",
       "      <td>257.353842</td>\n",
       "      <td>0.486592</td>\n",
       "      <td>0.836071</td>\n",
       "      <td>14.526497</td>\n",
       "      <td>1.102743</td>\n",
       "      <td>0.806057</td>\n",
       "      <td>49.693429</td>\n",
       "    </tr>\n",
       "    <tr>\n",
       "      <th>min</th>\n",
       "      <td>1.000000</td>\n",
       "      <td>0.000000</td>\n",
       "      <td>1.000000</td>\n",
       "      <td>0.420000</td>\n",
       "      <td>0.000000</td>\n",
       "      <td>0.000000</td>\n",
       "      <td>0.000000</td>\n",
       "    </tr>\n",
       "    <tr>\n",
       "      <th>25%</th>\n",
       "      <td>223.500000</td>\n",
       "      <td>0.000000</td>\n",
       "      <td>2.000000</td>\n",
       "      <td>20.125000</td>\n",
       "      <td>0.000000</td>\n",
       "      <td>0.000000</td>\n",
       "      <td>7.910400</td>\n",
       "    </tr>\n",
       "    <tr>\n",
       "      <th>50%</th>\n",
       "      <td>446.000000</td>\n",
       "      <td>0.000000</td>\n",
       "      <td>3.000000</td>\n",
       "      <td>28.000000</td>\n",
       "      <td>0.000000</td>\n",
       "      <td>0.000000</td>\n",
       "      <td>14.454200</td>\n",
       "    </tr>\n",
       "    <tr>\n",
       "      <th>75%</th>\n",
       "      <td>668.500000</td>\n",
       "      <td>1.000000</td>\n",
       "      <td>3.000000</td>\n",
       "      <td>38.000000</td>\n",
       "      <td>1.000000</td>\n",
       "      <td>0.000000</td>\n",
       "      <td>31.000000</td>\n",
       "    </tr>\n",
       "    <tr>\n",
       "      <th>max</th>\n",
       "      <td>891.000000</td>\n",
       "      <td>1.000000</td>\n",
       "      <td>3.000000</td>\n",
       "      <td>80.000000</td>\n",
       "      <td>8.000000</td>\n",
       "      <td>6.000000</td>\n",
       "      <td>512.329200</td>\n",
       "    </tr>\n",
       "  </tbody>\n",
       "</table>\n",
       "</div>"
      ],
      "text/plain": [
       "       PassengerId    Survived      Pclass         Age       SibSp  \\\n",
       "count   891.000000  891.000000  891.000000  714.000000  891.000000   \n",
       "mean    446.000000    0.383838    2.308642   29.699118    0.523008   \n",
       "std     257.353842    0.486592    0.836071   14.526497    1.102743   \n",
       "min       1.000000    0.000000    1.000000    0.420000    0.000000   \n",
       "25%     223.500000    0.000000    2.000000   20.125000    0.000000   \n",
       "50%     446.000000    0.000000    3.000000   28.000000    0.000000   \n",
       "75%     668.500000    1.000000    3.000000   38.000000    1.000000   \n",
       "max     891.000000    1.000000    3.000000   80.000000    8.000000   \n",
       "\n",
       "            Parch        Fare  \n",
       "count  891.000000  891.000000  \n",
       "mean     0.381594   32.204208  \n",
       "std      0.806057   49.693429  \n",
       "min      0.000000    0.000000  \n",
       "25%      0.000000    7.910400  \n",
       "50%      0.000000   14.454200  \n",
       "75%      0.000000   31.000000  \n",
       "max      6.000000  512.329200  "
      ]
     },
     "execution_count": 5,
     "metadata": {},
     "output_type": "execute_result"
    }
   ],
   "source": [
    "df_train.describe()"
   ]
  },
  {
   "cell_type": "code",
   "execution_count": 6,
   "id": "34c1fb42",
   "metadata": {
    "execution": {
     "iopub.execute_input": "2023-05-24T05:35:55.772871Z",
     "iopub.status.busy": "2023-05-24T05:35:55.772418Z",
     "iopub.status.idle": "2023-05-24T05:35:55.779592Z",
     "shell.execute_reply": "2023-05-24T05:35:55.778217Z"
    },
    "papermill": {
     "duration": 0.022719,
     "end_time": "2023-05-24T05:35:55.782916",
     "exception": false,
     "start_time": "2023-05-24T05:35:55.760197",
     "status": "completed"
    },
    "tags": []
   },
   "outputs": [
    {
     "data": {
      "text/plain": [
       "(891, 12)"
      ]
     },
     "execution_count": 6,
     "metadata": {},
     "output_type": "execute_result"
    }
   ],
   "source": [
    "df_train.shape"
   ]
  },
  {
   "cell_type": "code",
   "execution_count": 7,
   "id": "83d76778",
   "metadata": {
    "execution": {
     "iopub.execute_input": "2023-05-24T05:35:55.809395Z",
     "iopub.status.busy": "2023-05-24T05:35:55.809021Z",
     "iopub.status.idle": "2023-05-24T05:35:55.817207Z",
     "shell.execute_reply": "2023-05-24T05:35:55.815347Z"
    },
    "papermill": {
     "duration": 0.025564,
     "end_time": "2023-05-24T05:35:55.820100",
     "exception": false,
     "start_time": "2023-05-24T05:35:55.794536",
     "status": "completed"
    },
    "tags": []
   },
   "outputs": [
    {
     "data": {
      "text/plain": [
       "(418, 11)"
      ]
     },
     "execution_count": 7,
     "metadata": {},
     "output_type": "execute_result"
    }
   ],
   "source": [
    "df_test.shape"
   ]
  },
  {
   "cell_type": "code",
   "execution_count": 8,
   "id": "7347692d",
   "metadata": {
    "execution": {
     "iopub.execute_input": "2023-05-24T05:35:55.845472Z",
     "iopub.status.busy": "2023-05-24T05:35:55.845125Z",
     "iopub.status.idle": "2023-05-24T05:35:55.856612Z",
     "shell.execute_reply": "2023-05-24T05:35:55.855167Z"
    },
    "papermill": {
     "duration": 0.027142,
     "end_time": "2023-05-24T05:35:55.859336",
     "exception": false,
     "start_time": "2023-05-24T05:35:55.832194",
     "status": "completed"
    },
    "tags": []
   },
   "outputs": [
    {
     "name": "stdout",
     "output_type": "stream",
     "text": [
      "column: PassengerId\t Percent of NaN value: 0.00%\n",
      "column:   Survived\t Percent of NaN value: 0.00%\n",
      "column:     Pclass\t Percent of NaN value: 0.00%\n",
      "column:       Name\t Percent of NaN value: 0.00%\n",
      "column:        Sex\t Percent of NaN value: 0.00%\n",
      "column:        Age\t Percent of NaN value: 19.87%\n",
      "column:      SibSp\t Percent of NaN value: 0.00%\n",
      "column:      Parch\t Percent of NaN value: 0.00%\n",
      "column:     Ticket\t Percent of NaN value: 0.00%\n",
      "column:       Fare\t Percent of NaN value: 0.00%\n",
      "column:      Cabin\t Percent of NaN value: 77.10%\n",
      "column:   Embarked\t Percent of NaN value: 0.22%\n"
     ]
    }
   ],
   "source": [
    "for col in df_train.columns:\n",
    "    msg = 'column: {:>10}\\t Percent of NaN value: {:.2f}%'.format(col, 100 * (df_train[col].isnull().sum() / df_train[col].shape[0]))\n",
    "    print(msg)\n",
    "    \n",
    "# isnull -> NULL값\n",
    "# isnull().sum() -> NULL값의 합 -> 2개"
   ]
  },
  {
   "cell_type": "code",
   "execution_count": 9,
   "id": "41482b3d",
   "metadata": {
    "execution": {
     "iopub.execute_input": "2023-05-24T05:35:55.884780Z",
     "iopub.status.busy": "2023-05-24T05:35:55.884324Z",
     "iopub.status.idle": "2023-05-24T05:35:55.895131Z",
     "shell.execute_reply": "2023-05-24T05:35:55.893547Z"
    },
    "papermill": {
     "duration": 0.027276,
     "end_time": "2023-05-24T05:35:55.897962",
     "exception": false,
     "start_time": "2023-05-24T05:35:55.870686",
     "status": "completed"
    },
    "tags": []
   },
   "outputs": [
    {
     "name": "stdout",
     "output_type": "stream",
     "text": [
      "column: PassengerId\t Percent of NaN value: 0.00%\n",
      "column:     Pclass\t Percent of NaN value: 0.00%\n",
      "column:       Name\t Percent of NaN value: 0.00%\n",
      "column:        Sex\t Percent of NaN value: 0.00%\n",
      "column:        Age\t Percent of NaN value: 20.57%\n",
      "column:      SibSp\t Percent of NaN value: 0.00%\n",
      "column:      Parch\t Percent of NaN value: 0.00%\n",
      "column:     Ticket\t Percent of NaN value: 0.00%\n",
      "column:       Fare\t Percent of NaN value: 0.24%\n",
      "column:      Cabin\t Percent of NaN value: 78.23%\n",
      "column:   Embarked\t Percent of NaN value: 0.00%\n"
     ]
    }
   ],
   "source": [
    "for col in df_test.columns:\n",
    "    msg = 'column: {:>10}\\t Percent of NaN value: {:.2f}%'.format(col, 100 * (df_test[col].isnull().sum() / df_test[col].shape[0]))\n",
    "    print(msg)"
   ]
  },
  {
   "cell_type": "code",
   "execution_count": 10,
   "id": "0457a36a",
   "metadata": {
    "execution": {
     "iopub.execute_input": "2023-05-24T05:35:55.922528Z",
     "iopub.status.busy": "2023-05-24T05:35:55.922069Z",
     "iopub.status.idle": "2023-05-24T05:35:56.298126Z",
     "shell.execute_reply": "2023-05-24T05:35:56.297287Z"
    },
    "papermill": {
     "duration": 0.391338,
     "end_time": "2023-05-24T05:35:56.300606",
     "exception": false,
     "start_time": "2023-05-24T05:35:55.909268",
     "status": "completed"
    },
    "tags": []
   },
   "outputs": [
    {
     "data": {
      "text/plain": [
       "<AxesSubplot: >"
      ]
     },
     "execution_count": 10,
     "metadata": {},
     "output_type": "execute_result"
    },
    {
     "data": {
      "image/png": "[encoded data removed]",
      "text/plain": [
       "<Figure size 400x400 with 2 Axes>"
      ]
     },
     "metadata": {},
     "output_type": "display_data"
    }
   ],
   "source": [
    "msno.matrix(df=df_train.iloc[:, :], figsize=(4, 4), color=(0.8, 0.5, 0.2))\n",
    "\n",
    "# iloc은 행, 열 선택하는 코드\n",
    "# 빈칸이 NULL"
   ]
  },
  {
   "cell_type": "markdown",
   "id": "d66be028",
   "metadata": {
    "papermill": {
     "duration": 0.015636,
     "end_time": "2023-05-24T05:35:56.332079",
     "exception": false,
     "start_time": "2023-05-24T05:35:56.316443",
     "status": "completed"
    },
    "tags": []
   },
   "source": [
    "## Target label 확인"
   ]
  },
  {
   "cell_type": "code",
   "execution_count": 11,
   "id": "ae4f6047",
   "metadata": {
    "execution": {
     "iopub.execute_input": "2023-05-24T05:35:56.359042Z",
     "iopub.status.busy": "2023-05-24T05:35:56.358461Z",
     "iopub.status.idle": "2023-05-24T05:35:57.103040Z",
     "shell.execute_reply": "2023-05-24T05:35:57.100990Z"
    },
    "papermill": {
     "duration": 0.759882,
     "end_time": "2023-05-24T05:35:57.105103",
     "exception": true,
     "start_time": "2023-05-24T05:35:56.345221",
     "status": "failed"
    },
    "tags": []
   },
   "outputs": [
    {
     "ename": "TypeError",
     "evalue": "countplot() got multiple values for argument 'data'",
     "output_type": "error",
     "traceback": [
      "\u001b[0;31m---------------------------------------------------------------------------\u001b[0m",
      "\u001b[0;31mTypeError\u001b[0m                                 Traceback (most recent call last)",
      "Cell \u001b[0;32mIn[11], line 6\u001b[0m\n\u001b[1;32m      4\u001b[0m ax[\u001b[38;5;241m0\u001b[39m]\u001b[38;5;241m.\u001b[39mset_title(\u001b[38;5;124m'\u001b[39m\u001b[38;5;124mPie plot - Survived\u001b[39m\u001b[38;5;124m'\u001b[39m)\n\u001b[1;32m      5\u001b[0m ax[\u001b[38;5;241m0\u001b[39m]\u001b[38;5;241m.\u001b[39mset_ylabel(\u001b[38;5;124m'\u001b[39m\u001b[38;5;124m'\u001b[39m)\n\u001b[0;32m----> 6\u001b[0m \u001b[43msns\u001b[49m\u001b[38;5;241;43m.\u001b[39;49m\u001b[43mcountplot\u001b[49m\u001b[43m(\u001b[49m\u001b[38;5;124;43m'\u001b[39;49m\u001b[38;5;124;43mSurvived\u001b[39;49m\u001b[38;5;124;43m'\u001b[39;49m\u001b[43m,\u001b[49m\u001b[43m \u001b[49m\u001b[43mdata\u001b[49m\u001b[38;5;241;43m=\u001b[39;49m\u001b[43mdf_train\u001b[49m\u001b[43m,\u001b[49m\u001b[43m \u001b[49m\u001b[43max\u001b[49m\u001b[38;5;241;43m=\u001b[39;49m\u001b[43max\u001b[49m\u001b[43m[\u001b[49m\u001b[38;5;241;43m1\u001b[39;49m\u001b[43m]\u001b[49m\u001b[43m)\u001b[49m\n\u001b[1;32m      7\u001b[0m ax[\u001b[38;5;241m1\u001b[39m]\u001b[38;5;241m.\u001b[39mset_title(\u001b[38;5;124m'\u001b[39m\u001b[38;5;124mCount plot - Survived\u001b[39m\u001b[38;5;124m'\u001b[39m)\n\u001b[1;32m      9\u001b[0m plt\u001b[38;5;241m.\u001b[39mshow()\n",
      "\u001b[0;31mTypeError\u001b[0m: countplot() got multiple values for argument 'data'"
     ]
    },
    {
     "data": {
      "image/png": "[encoded data removed]",
      "text/plain": [
       "<Figure size 1800x800 with 2 Axes>"
      ]
     },
     "metadata": {},
     "output_type": "display_data"
    }
   ],
   "source": [
    "f, ax = plt.subplots(1, 2, figsize=(18, 8))\n",
    "\n",
    "df_train['Survived'].value_counts().plot.pie(explode=[0, 0.1], autopct='%1.1f%%', ax=ax[0], shadow=True)\n",
    "ax[0].set_title('Pie plot - Survived')\n",
    "ax[0].set_ylabel('')\n",
    "sns.countplot('Survived', data=df_train, ax=ax[1])\n",
    "ax[1].set_title('Count plot - Survived')\n",
    "\n",
    "plt.show()\n",
    "\n",
    "# data visualization이 정말 중요함\n",
    "# 그림을 통해 내가 보고자 하는 것을 볼 수 있는 역량을 키워야 함"
   ]
  },
  {
   "cell_type": "markdown",
   "id": "2e7db5c5",
   "metadata": {
    "papermill": {
     "duration": null,
     "end_time": null,
     "exception": null,
     "start_time": null,
     "status": "pending"
    },
    "tags": []
   },
   "source": [
    "## Pclass"
   ]
  },
  {
   "cell_type": "code",
   "execution_count": null,
   "id": "2752e837",
   "metadata": {
    "execution": {
     "iopub.execute_input": "2023-05-24T05:33:34.116305Z",
     "iopub.status.busy": "2023-05-24T05:33:34.115874Z",
     "iopub.status.idle": "2023-05-24T05:33:34.130546Z",
     "shell.execute_reply": "2023-05-24T05:33:34.129157Z",
     "shell.execute_reply.started": "2023-05-24T05:33:34.116269Z"
    },
    "papermill": {
     "duration": null,
     "end_time": null,
     "exception": null,
     "start_time": null,
     "status": "pending"
    },
    "tags": []
   },
   "outputs": [],
   "source": [
    "df_train[['Pclass', 'Survived']].groupby(['Pclass'], as_index=True).count()\n",
    "\n",
    "# 데이터프레임을 가져올 때 리스트로 가져와야 됨\n",
    "# count() : 각 class에 몇명이 있는 지 확인할 수 있음"
   ]
  },
  {
   "cell_type": "code",
   "execution_count": null,
   "id": "ec33453a",
   "metadata": {
    "execution": {
     "iopub.execute_input": "2023-05-24T05:33:35.479701Z",
     "iopub.status.busy": "2023-05-24T05:33:35.479281Z",
     "iopub.status.idle": "2023-05-24T05:33:35.493541Z",
     "shell.execute_reply": "2023-05-24T05:33:35.492359Z",
     "shell.execute_reply.started": "2023-05-24T05:33:35.479652Z"
    },
    "papermill": {
     "duration": null,
     "end_time": null,
     "exception": null,
     "start_time": null,
     "status": "pending"
    },
    "tags": []
   },
   "outputs": [],
   "source": [
    "df_train[['Pclass', 'Survived']].groupby(['Pclass'], as_index=True).sum()\n",
    "\n",
    "# sum() : 216명 증 생존한 사람(survivied=1)의 총합을 알게 됨"
   ]
  },
  {
   "cell_type": "code",
   "execution_count": null,
   "id": "1befc787",
   "metadata": {
    "execution": {
     "iopub.execute_input": "2023-05-24T05:33:08.302597Z",
     "iopub.status.busy": "2023-05-24T05:33:08.302139Z",
     "iopub.status.idle": "2023-05-24T05:33:08.350506Z",
     "shell.execute_reply": "2023-05-24T05:33:08.349344Z",
     "shell.execute_reply.started": "2023-05-24T05:33:08.302553Z"
    },
    "papermill": {
     "duration": null,
     "end_time": null,
     "exception": null,
     "start_time": null,
     "status": "pending"
    },
    "tags": []
   },
   "outputs": [],
   "source": [
    "pd.crosstab(df_train['Pclass'], df_train['Survived'], margins=True).style.background_gradient(cmap='summer_r')\n",
    "\n",
    "# margins : 모든 데이터를 분석한 겱과를 오른쪾과 아래에 붙일지 여부"
   ]
  },
  {
   "cell_type": "code",
   "execution_count": null,
   "id": "5485a378",
   "metadata": {
    "execution": {
     "iopub.execute_input": "2023-05-24T05:33:37.428713Z",
     "iopub.status.busy": "2023-05-24T05:33:37.428271Z",
     "iopub.status.idle": "2023-05-24T05:33:37.714649Z",
     "shell.execute_reply": "2023-05-24T05:33:37.713835Z",
     "shell.execute_reply.started": "2023-05-24T05:33:37.428679Z"
    },
    "papermill": {
     "duration": null,
     "end_time": null,
     "exception": null,
     "start_time": null,
     "status": "pending"
    },
    "tags": []
   },
   "outputs": [],
   "source": [
    "df_train[['Pclass', 'Survived']].groupby(['Pclass'], as_index=True).mean().sort_values(by='Survived', ascending=False).plot.bar()\n",
    "\n",
    "# ascending=False : 내림차순 정렬"
   ]
  },
  {
   "cell_type": "code",
   "execution_count": null,
   "id": "b9555995",
   "metadata": {
    "execution": {
     "iopub.execute_input": "2023-05-24T05:33:39.424616Z",
     "iopub.status.busy": "2023-05-24T05:33:39.423928Z",
     "iopub.status.idle": "2023-05-24T05:33:40.003071Z",
     "shell.execute_reply": "2023-05-24T05:33:40.001595Z",
     "shell.execute_reply.started": "2023-05-24T05:33:39.424579Z"
    },
    "papermill": {
     "duration": null,
     "end_time": null,
     "exception": null,
     "start_time": null,
     "status": "pending"
    },
    "tags": []
   },
   "outputs": [],
   "source": [
    "y_position = 1.02\n",
    "f, ax = plt.subplots(1, 2, figsize=(18, 8))\n",
    "df_train['Pclass'].value_counts().plot.bar(color=['#CD7F32','#FFDF00','#D3D3D3'], ax=ax[0])\n",
    "ax[0].set_title('Number of Passengers By Pclass', y=y_position)\n",
    "ax[0].set_ylabel('Count')\n",
    "sns.countplot('Pclass', hue='Survived', data=df_train, ax=ax[1])\n",
    "ax[1].set_title('Pclass: Survived vs Dead', y=y_position)\n",
    "\n",
    "plt.show()\n",
    "\n",
    "# 높을수록 생존 확률이 높음"
   ]
  },
  {
   "cell_type": "markdown",
   "id": "754a4acf",
   "metadata": {
    "papermill": {
     "duration": null,
     "end_time": null,
     "exception": null,
     "start_time": null,
     "status": "pending"
    },
    "tags": []
   },
   "source": [
    "## Sex"
   ]
  },
  {
   "cell_type": "code",
   "execution_count": null,
   "id": "a1f77eef",
   "metadata": {
    "execution": {
     "iopub.execute_input": "2023-05-24T05:33:42.115891Z",
     "iopub.status.busy": "2023-05-24T05:33:42.115148Z",
     "iopub.status.idle": "2023-05-24T05:33:42.794101Z",
     "shell.execute_reply": "2023-05-24T05:33:42.792514Z",
     "shell.execute_reply.started": "2023-05-24T05:33:42.115843Z"
    },
    "papermill": {
     "duration": null,
     "end_time": null,
     "exception": null,
     "start_time": null,
     "status": "pending"
    },
    "tags": []
   },
   "outputs": [],
   "source": [
    "f, ax = plt.subplots(1, 2, figsize=(18, 8))\n",
    "df_train[['Sex', 'Survived']].groupby(['Sex'], as_index=True).mean().plot.bar(ax=ax[0])\n",
    "ax[0].set_title('Survived vs Sex')\n",
    "sns.countplot('Sex', hue='Survived', data=df_train, ax=ax[1])\n",
    "ax[1].set_title('Sex: Survived vs Dead')\n",
    "plt.show()\n",
    "\n",
    "# 여자 생존률 높음"
   ]
  },
  {
   "cell_type": "code",
   "execution_count": null,
   "id": "647ba80e",
   "metadata": {
    "execution": {
     "iopub.execute_input": "2023-05-24T05:33:45.070201Z",
     "iopub.status.busy": "2023-05-24T05:33:45.069805Z",
     "iopub.status.idle": "2023-05-24T05:33:45.118954Z",
     "shell.execute_reply": "2023-05-24T05:33:45.117598Z",
     "shell.execute_reply.started": "2023-05-24T05:33:45.070172Z"
    },
    "papermill": {
     "duration": null,
     "end_time": null,
     "exception": null,
     "start_time": null,
     "status": "pending"
    },
    "tags": []
   },
   "outputs": [],
   "source": [
    "pd.crosstab(df_train['Sex'], df_train['Survived'], margins=True).style.background_gradient(cmap='summer_r')\n",
    "\n",
    "# style.background_gradient : 수치의 크기를 색상 온도로 보는 것"
   ]
  },
  {
   "cell_type": "markdown",
   "id": "1f0ac038",
   "metadata": {
    "papermill": {
     "duration": null,
     "end_time": null,
     "exception": null,
     "start_time": null,
     "status": "pending"
    },
    "tags": []
   },
   "source": [
    "## Both Sex and Pclass"
   ]
  },
  {
   "cell_type": "markdown",
   "id": "5b3993f8",
   "metadata": {
    "papermill": {
     "duration": null,
     "end_time": null,
     "exception": null,
     "start_time": null,
     "status": "pending"
    },
    "tags": []
   },
   "source": [
    "### Sex, Pclass 두가지에 관하여 생존이 어떻게 달라지는지 확인하기\n",
    "### seaborn의 factorplot 이용"
   ]
  },
  {
   "cell_type": "code",
   "execution_count": null,
   "id": "0c1e22ea",
   "metadata": {
    "execution": {
     "iopub.execute_input": "2023-05-24T05:33:46.491931Z",
     "iopub.status.busy": "2023-05-24T05:33:46.491466Z",
     "iopub.status.idle": "2023-05-24T05:33:46.522690Z",
     "shell.execute_reply": "2023-05-24T05:33:46.521157Z",
     "shell.execute_reply.started": "2023-05-24T05:33:46.491899Z"
    },
    "papermill": {
     "duration": null,
     "end_time": null,
     "exception": null,
     "start_time": null,
     "status": "pending"
    },
    "tags": []
   },
   "outputs": [],
   "source": [
    "sns.factorplot('Pclass', 'Survived', hue='Sex', data=df_train, size=6, aspect=1.5)\n",
    "\n",
    "# 버전때문에 오류나는 것 같은데,,"
   ]
  },
  {
   "cell_type": "code",
   "execution_count": null,
   "id": "b0d5addc",
   "metadata": {
    "execution": {
     "iopub.execute_input": "2023-05-24T05:33:47.744569Z",
     "iopub.status.busy": "2023-05-24T05:33:47.744146Z",
     "iopub.status.idle": "2023-05-24T05:33:47.775693Z",
     "shell.execute_reply": "2023-05-24T05:33:47.774403Z",
     "shell.execute_reply.started": "2023-05-24T05:33:47.744536Z"
    },
    "papermill": {
     "duration": null,
     "end_time": null,
     "exception": null,
     "start_time": null,
     "status": "pending"
    },
    "tags": []
   },
   "outputs": [],
   "source": [
    "sns.factorplot(x='Sex', y='Survived', col='Pclass', data=df_train, satureation=.5, size=9, aspect=1)\n",
    "\n",
    "# factorplot : 범주형 변수를 기준으로 다른 변수들의 관계를 시각화하는 데 사용됨"
   ]
  },
  {
   "cell_type": "markdown",
   "id": "8405ad3e",
   "metadata": {
    "papermill": {
     "duration": null,
     "end_time": null,
     "exception": null,
     "start_time": null,
     "status": "pending"
    },
    "tags": []
   },
   "source": [
    "## Age"
   ]
  },
  {
   "cell_type": "code",
   "execution_count": null,
   "id": "9850e7aa",
   "metadata": {
    "execution": {
     "iopub.execute_input": "2023-05-24T05:33:49.357961Z",
     "iopub.status.busy": "2023-05-24T05:33:49.357270Z",
     "iopub.status.idle": "2023-05-24T05:33:49.364835Z",
     "shell.execute_reply": "2023-05-24T05:33:49.364024Z",
     "shell.execute_reply.started": "2023-05-24T05:33:49.357921Z"
    },
    "papermill": {
     "duration": null,
     "end_time": null,
     "exception": null,
     "start_time": null,
     "status": "pending"
    },
    "tags": []
   },
   "outputs": [],
   "source": [
    "print('제일 나이 많은 탑승객 : {:.1f} Years'.format(df_train['Age'].max()))\n",
    "print('제일 어린 탑승객 : {:.1f} Years'.format(df_train['Age'].min()))\n",
    "print('탑승객 평균 나이 : {:.1f} Years'.format(df_train['Age'].mean()))"
   ]
  },
  {
   "cell_type": "code",
   "execution_count": null,
   "id": "c02c9e01",
   "metadata": {
    "execution": {
     "iopub.execute_input": "2023-05-24T05:33:51.099952Z",
     "iopub.status.busy": "2023-05-24T05:33:51.099268Z",
     "iopub.status.idle": "2023-05-24T05:33:51.473456Z",
     "shell.execute_reply": "2023-05-24T05:33:51.472196Z",
     "shell.execute_reply.started": "2023-05-24T05:33:51.099916Z"
    },
    "papermill": {
     "duration": null,
     "end_time": null,
     "exception": null,
     "start_time": null,
     "status": "pending"
    },
    "tags": []
   },
   "outputs": [],
   "source": [
    "fig, ax = plt.subplots(1, 1, figsize=(9, 5))\n",
    "sns.kdeplot(df_train[df_train['Survived'] == 1]['Age'], ax=ax)\n",
    "sns.kdeplot(df_train[df_train['Survived'] == 0]['Age'], ax=ax)\n",
    "plt.legend(['Survived == 1', 'Survived == 0'])\n",
    "plt.show()"
   ]
  },
  {
   "cell_type": "code",
   "execution_count": null,
   "id": "af344ee3",
   "metadata": {
    "execution": {
     "iopub.execute_input": "2023-05-24T05:33:53.056451Z",
     "iopub.status.busy": "2023-05-24T05:33:53.056027Z",
     "iopub.status.idle": "2023-05-24T05:33:53.524537Z",
     "shell.execute_reply": "2023-05-24T05:33:53.523103Z",
     "shell.execute_reply.started": "2023-05-24T05:33:53.056416Z"
    },
    "papermill": {
     "duration": null,
     "end_time": null,
     "exception": null,
     "start_time": null,
     "status": "pending"
    },
    "tags": []
   },
   "outputs": [],
   "source": [
    "plt.figure(figsize=(8, 6))\n",
    "df_train['Age'][df_train['Pclass'] == 1].plot(kind='kde')\n",
    "df_train['Age'][df_train['Pclass'] == 2].plot(kind='kde')\n",
    "df_train['Age'][df_train['Pclass'] == 3].plot(kind='kde')\n",
    "\n",
    "plt.xlabel('Age')\n",
    "plt.title('Age Distribution within classes')\n",
    "plt.legend(['1st Class', '2nd Class', '3rd Class'])\n",
    "\n",
    "# 클래스가 높을수록 나이 많은 비중이 커짐"
   ]
  },
  {
   "cell_type": "code",
   "execution_count": null,
   "id": "680e5568",
   "metadata": {
    "execution": {
     "iopub.execute_input": "2023-05-24T05:33:55.061878Z",
     "iopub.status.busy": "2023-05-24T05:33:55.060733Z",
     "iopub.status.idle": "2023-05-24T05:33:55.430246Z",
     "shell.execute_reply": "2023-05-24T05:33:55.429050Z",
     "shell.execute_reply.started": "2023-05-24T05:33:55.061838Z"
    },
    "papermill": {
     "duration": null,
     "end_time": null,
     "exception": null,
     "start_time": null,
     "status": "pending"
    },
    "tags": []
   },
   "outputs": [],
   "source": [
    "cummulate_survival_ratio = []\n",
    "for i in range(1, 80):\n",
    "    cummulate_survival_ratio.append(df_train[df_train['Age'] < i]['Survived'].sum() / len(df_train[df_train['Age'] < i]['Survived']))\n",
    "    \n",
    "plt.figure(figsize=(7, 7))\n",
    "plt.plot(cummulate_survival_ratio)\n",
    "plt.title('Survival rate change depending on range of Age', y=1.02)\n",
    "plt.ylabel('Survival rate')\n",
    "plt.xlabel('Range of Age(0~x)')\n",
    "plt.show()\n",
    "\n",
    "# 나이가 어릴 수록 생존률이 높음"
   ]
  },
  {
   "cell_type": "markdown",
   "id": "d3cbb483",
   "metadata": {
    "papermill": {
     "duration": null,
     "end_time": null,
     "exception": null,
     "start_time": null,
     "status": "pending"
    },
    "tags": []
   },
   "source": [
    "## Pclass, Sex, Age"
   ]
  },
  {
   "cell_type": "markdown",
   "id": "4a0f9642",
   "metadata": {
    "papermill": {
     "duration": null,
     "end_time": null,
     "exception": null,
     "start_time": null,
     "status": "pending"
    },
    "tags": []
   },
   "source": [
    "### seaborn의 violinplot을 사용"
   ]
  },
  {
   "cell_type": "code",
   "execution_count": null,
   "id": "3b3c2048",
   "metadata": {
    "execution": {
     "iopub.execute_input": "2023-05-24T05:33:58.532161Z",
     "iopub.status.busy": "2023-05-24T05:33:58.531733Z",
     "iopub.status.idle": "2023-05-24T05:33:59.199472Z",
     "shell.execute_reply": "2023-05-24T05:33:59.198357Z",
     "shell.execute_reply.started": "2023-05-24T05:33:58.532128Z"
    },
    "papermill": {
     "duration": null,
     "end_time": null,
     "exception": null,
     "start_time": null,
     "status": "pending"
    },
    "tags": []
   },
   "outputs": [],
   "source": [
    "f,ax=plt.subplots(1,2,figsize=(18,8))\n",
    "sns.violinplot(\"Pclass\",\"Age\", hue=\"Survived\", data=df_train, scale='count', split=True,ax=ax[0])\n",
    "ax[0].set_title('Pclass and Age vs Survived')\n",
    "ax[0].set_yticks(range(0,110,10))\n",
    "sns.violinplot(\"Sex\",\"Age\", hue=\"Survived\", data=df_train, scale='count', split=True,ax=ax[1])\n",
    "ax[1].set_title('Sex and Age vs Survived')\n",
    "ax[1].set_yticks(range(0,110,10))\n",
    "plt.show()\n",
    "\n",
    "# 나이가 어릴 수록 생존을 많이 한 것을 볼 수 있음\n",
    "# 여자가 많이 생존함"
   ]
  },
  {
   "cell_type": "markdown",
   "id": "23e15582",
   "metadata": {
    "papermill": {
     "duration": null,
     "end_time": null,
     "exception": null,
     "start_time": null,
     "status": "pending"
    },
    "tags": []
   },
   "source": [
    "## Embarked"
   ]
  },
  {
   "cell_type": "markdown",
   "id": "021cdd90",
   "metadata": {
    "papermill": {
     "duration": null,
     "end_time": null,
     "exception": null,
     "start_time": null,
     "status": "pending"
    },
    "tags": []
   },
   "source": [
    "### 탑승한 항수를 나타냄"
   ]
  },
  {
   "cell_type": "code",
   "execution_count": null,
   "id": "e5dfea08",
   "metadata": {
    "execution": {
     "iopub.execute_input": "2023-05-24T05:34:01.524567Z",
     "iopub.status.busy": "2023-05-24T05:34:01.523499Z",
     "iopub.status.idle": "2023-05-24T05:34:01.780070Z",
     "shell.execute_reply": "2023-05-24T05:34:01.779150Z",
     "shell.execute_reply.started": "2023-05-24T05:34:01.524529Z"
    },
    "papermill": {
     "duration": null,
     "end_time": null,
     "exception": null,
     "start_time": null,
     "status": "pending"
    },
    "tags": []
   },
   "outputs": [],
   "source": [
    "f, ax = plt.subplots(1, 1, figsize=(7, 7))\n",
    "df_train[['Embarked', 'Survived']].groupby(['Embarked'], as_index=True).mean().sort_values(by='Survived', ascending=False).plot.bar(ax=ax)"
   ]
  },
  {
   "cell_type": "code",
   "execution_count": null,
   "id": "8bfa8251",
   "metadata": {
    "execution": {
     "iopub.execute_input": "2023-05-24T05:34:03.781812Z",
     "iopub.status.busy": "2023-05-24T05:34:03.781111Z",
     "iopub.status.idle": "2023-05-24T05:34:04.888503Z",
     "shell.execute_reply": "2023-05-24T05:34:04.886992Z",
     "shell.execute_reply.started": "2023-05-24T05:34:03.781755Z"
    },
    "papermill": {
     "duration": null,
     "end_time": null,
     "exception": null,
     "start_time": null,
     "status": "pending"
    },
    "tags": []
   },
   "outputs": [],
   "source": [
    "f,ax=plt.subplots(2, 2, figsize=(20,15))\n",
    "\n",
    "sns.countplot('Embarked', data=df_train, ax=ax[0,0])\n",
    "ax[0,0].set_title('(1) No. Of Passengers Boarded')\n",
    "\n",
    "sns.countplot('Embarked', hue='Sex', data=df_train, ax=ax[0,1])\n",
    "ax[0,1].set_title('(2) Male-Female Split for Embarked')\n",
    "\n",
    "sns.countplot('Embarked', hue='Survived', data=df_train, ax=ax[1,0])\n",
    "ax[1,0].set_title('(3) Embarked vs Survived')\n",
    "\n",
    "sns.countplot('Embarked', hue='Pclass', data=df_train, ax=ax[1,1])\n",
    "ax[1,1].set_title('(4) Embarked vs Pclass')\n",
    "\n",
    "plt.subplots_adjust(wspace=0.2, hspace=0.5)\n",
    "plt.show()"
   ]
  },
  {
   "cell_type": "markdown",
   "id": "fce7b0c8",
   "metadata": {
    "papermill": {
     "duration": null,
     "end_time": null,
     "exception": null,
     "start_time": null,
     "status": "pending"
    },
    "tags": []
   },
   "source": [
    "## Family"
   ]
  },
  {
   "cell_type": "code",
   "execution_count": null,
   "id": "e7673790",
   "metadata": {
    "execution": {
     "iopub.execute_input": "2023-05-24T05:34:08.604292Z",
     "iopub.status.busy": "2023-05-24T05:34:08.603897Z",
     "iopub.status.idle": "2023-05-24T05:34:08.611776Z",
     "shell.execute_reply": "2023-05-24T05:34:08.610321Z",
     "shell.execute_reply.started": "2023-05-24T05:34:08.604263Z"
    },
    "papermill": {
     "duration": null,
     "end_time": null,
     "exception": null,
     "start_time": null,
     "status": "pending"
    },
    "tags": []
   },
   "outputs": [],
   "source": [
    "df_train['FamilySize'] = df_train['SibSp'] + df_train['Parch'] + 1\n",
    "\n",
    "df_test['FamilySize'] = df_test['SibSp'] + df_test['Parch'] + 1"
   ]
  },
  {
   "cell_type": "code",
   "execution_count": null,
   "id": "5f66a35d",
   "metadata": {
    "execution": {
     "iopub.execute_input": "2023-05-24T05:34:09.780243Z",
     "iopub.status.busy": "2023-05-24T05:34:09.779801Z",
     "iopub.status.idle": "2023-05-24T05:34:09.788029Z",
     "shell.execute_reply": "2023-05-24T05:34:09.786574Z",
     "shell.execute_reply.started": "2023-05-24T05:34:09.780209Z"
    },
    "papermill": {
     "duration": null,
     "end_time": null,
     "exception": null,
     "start_time": null,
     "status": "pending"
    },
    "tags": []
   },
   "outputs": [],
   "source": [
    "print(\"Maximum size of Family: \", df_train['FamilySize'].max())\n",
    "print(\"Minimum size of Family: \", df_train['FamilySize'].min())"
   ]
  },
  {
   "cell_type": "code",
   "execution_count": null,
   "id": "f4da0fe2",
   "metadata": {
    "execution": {
     "iopub.execute_input": "2023-05-24T05:34:11.535990Z",
     "iopub.status.busy": "2023-05-24T05:34:11.534887Z",
     "iopub.status.idle": "2023-05-24T05:34:12.463411Z",
     "shell.execute_reply": "2023-05-24T05:34:12.461919Z",
     "shell.execute_reply.started": "2023-05-24T05:34:11.535939Z"
    },
    "papermill": {
     "duration": null,
     "end_time": null,
     "exception": null,
     "start_time": null,
     "status": "pending"
    },
    "tags": []
   },
   "outputs": [],
   "source": [
    "f,ax=plt.subplots(1, 3, figsize=(40,10))\n",
    "\n",
    "sns.countplot('FamilySize', data=df_train, ax=ax[0])\n",
    "ax[0].set_title('(1) No. Of Passengers Boarded', y=1.02)\n",
    "\n",
    "sns.countplot('FamilySize', hue='Survived', data=df_train, ax=ax[1])\n",
    "ax[1].set_title('(2) Survived countplot depending on FamilySize',  y=1.02)\n",
    "\n",
    "df_train[['FamilySize', 'Survived']].groupby(['FamilySize'], as_index=True).mean().sort_values(by='Survived', ascending=False).plot.bar(ax=ax[2])\n",
    "ax[2].set_title('(3) Survived rate depending on FamilySize',  y=1.02)\n",
    "\n",
    "plt.subplots_adjust(wspace=0.2, hspace=0.5)\n",
    "plt.show()"
   ]
  },
  {
   "cell_type": "markdown",
   "id": "5625f995",
   "metadata": {
    "papermill": {
     "duration": null,
     "end_time": null,
     "exception": null,
     "start_time": null,
     "status": "pending"
    },
    "tags": []
   },
   "source": [
    "## Fare"
   ]
  },
  {
   "cell_type": "code",
   "execution_count": null,
   "id": "7a5bc808",
   "metadata": {
    "execution": {
     "iopub.execute_input": "2023-05-24T05:34:13.914176Z",
     "iopub.status.busy": "2023-05-24T05:34:13.913773Z",
     "iopub.status.idle": "2023-05-24T05:34:14.376190Z",
     "shell.execute_reply": "2023-05-24T05:34:14.374991Z",
     "shell.execute_reply.started": "2023-05-24T05:34:13.914144Z"
    },
    "papermill": {
     "duration": null,
     "end_time": null,
     "exception": null,
     "start_time": null,
     "status": "pending"
    },
    "tags": []
   },
   "outputs": [],
   "source": [
    "fig, ax = plt.subplots(1, 1, figsize=(8, 8))\n",
    "g = sns.distplot(df_train['Fare'], color='b', label='Skewness : {:.2f}'.format(df_train['Fare'].skew()), ax=ax)\n",
    "g = g.legend(loc='best')\n",
    "\n",
    "# 매우 비대칭이르모 실제 예측 시에 좋지 못한 결과를 부를 수 있음 -> outlier의 영향을 줄이기 위해 Fare에 log를 취함"
   ]
  },
  {
   "cell_type": "code",
   "execution_count": null,
   "id": "4a7e630a",
   "metadata": {
    "execution": {
     "iopub.execute_input": "2023-05-24T05:34:18.049806Z",
     "iopub.status.busy": "2023-05-24T05:34:18.049387Z",
     "iopub.status.idle": "2023-05-24T05:34:18.061750Z",
     "shell.execute_reply": "2023-05-24T05:34:18.060491Z",
     "shell.execute_reply.started": "2023-05-24T05:34:18.049774Z"
    },
    "papermill": {
     "duration": null,
     "end_time": null,
     "exception": null,
     "start_time": null,
     "status": "pending"
    },
    "tags": []
   },
   "outputs": [],
   "source": [
    "df_test.loc[df_test.Fare.isnull(), 'Fare'] = df_test['Fare'].mean()\n",
    "\n",
    "df_train['Fare'] = df_train['Fare'].map(lambda i: np.log(i) if i > 0 else 0)\n",
    "df_test['Fare'] = df_test['Fare'].map(lambda i: np.log(i) if i > 0 else 0)"
   ]
  },
  {
   "cell_type": "code",
   "execution_count": null,
   "id": "1f05936d",
   "metadata": {
    "execution": {
     "iopub.execute_input": "2023-05-24T05:34:18.924347Z",
     "iopub.status.busy": "2023-05-24T05:34:18.923941Z",
     "iopub.status.idle": "2023-05-24T05:34:19.303593Z",
     "shell.execute_reply": "2023-05-24T05:34:19.302293Z",
     "shell.execute_reply.started": "2023-05-24T05:34:18.924317Z"
    },
    "papermill": {
     "duration": null,
     "end_time": null,
     "exception": null,
     "start_time": null,
     "status": "pending"
    },
    "tags": []
   },
   "outputs": [],
   "source": [
    "fig, ax = plt.subplots(1, 1, figsize=(8, 8))\n",
    "g = sns.distplot(df_train['Fare'], color='b', label='Skewness : {:.2f}'.format(df_train['Fare'].skew()), ax=ax)\n",
    "g = g.legend(loc='best')"
   ]
  },
  {
   "cell_type": "markdown",
   "id": "3707cee4",
   "metadata": {
    "papermill": {
     "duration": null,
     "end_time": null,
     "exception": null,
     "start_time": null,
     "status": "pending"
    },
    "tags": []
   },
   "source": [
    "## Cabin"
   ]
  },
  {
   "cell_type": "markdown",
   "id": "55081a33",
   "metadata": {
    "papermill": {
     "duration": null,
     "end_time": null,
     "exception": null,
     "start_time": null,
     "status": "pending"
    },
    "tags": []
   },
   "source": [
    "### 이 feature는 NaN이 80%이므로 생존에 영향을 미칠 중요한 정보를 얻어내기가 쉽지 않음 -> 모델에 포함 X"
   ]
  },
  {
   "cell_type": "code",
   "execution_count": null,
   "id": "1dc28ea5",
   "metadata": {
    "execution": {
     "iopub.execute_input": "2023-05-24T05:34:21.584963Z",
     "iopub.status.busy": "2023-05-24T05:34:21.584531Z",
     "iopub.status.idle": "2023-05-24T05:34:21.603912Z",
     "shell.execute_reply": "2023-05-24T05:34:21.602847Z",
     "shell.execute_reply.started": "2023-05-24T05:34:21.584930Z"
    },
    "papermill": {
     "duration": null,
     "end_time": null,
     "exception": null,
     "start_time": null,
     "status": "pending"
    },
    "tags": []
   },
   "outputs": [],
   "source": [
    "df_train.head()"
   ]
  },
  {
   "cell_type": "markdown",
   "id": "1f77989b",
   "metadata": {
    "papermill": {
     "duration": null,
     "end_time": null,
     "exception": null,
     "start_time": null,
     "status": "pending"
    },
    "tags": []
   },
   "source": [
    "## Ticket"
   ]
  },
  {
   "cell_type": "markdown",
   "id": "ebf63733",
   "metadata": {
    "papermill": {
     "duration": null,
     "end_time": null,
     "exception": null,
     "start_time": null,
     "status": "pending"
    },
    "tags": []
   },
   "source": [
    "### string data 이므로 작업 필요"
   ]
  },
  {
   "cell_type": "code",
   "execution_count": null,
   "id": "9ac2c5d4",
   "metadata": {
    "execution": {
     "iopub.execute_input": "2023-05-24T05:34:23.813081Z",
     "iopub.status.busy": "2023-05-24T05:34:23.812628Z",
     "iopub.status.idle": "2023-05-24T05:34:23.824725Z",
     "shell.execute_reply": "2023-05-24T05:34:23.823474Z",
     "shell.execute_reply.started": "2023-05-24T05:34:23.813046Z"
    },
    "papermill": {
     "duration": null,
     "end_time": null,
     "exception": null,
     "start_time": null,
     "status": "pending"
    },
    "tags": []
   },
   "outputs": [],
   "source": [
    "df_train['Ticket'].value_counts()"
   ]
  }
 ],
 "metadata": {
  "kernelspec": {
   "display_name": "Python 3",
   "language": "python",
   "name": "python3"
  },
  "language_info": {
   "codemirror_mode": {
    "name": "ipython",
    "version": 3
   },
   "file_extension": ".py",
   "mimetype": "text/x-python",
   "name": "python",
   "nbconvert_exporter": "python",
   "pygments_lexer": "ipython3",
   "version": "3.10.10"
  },
  "papermill": {
   "default_parameters": {},
   "duration": 16.011428,
   "end_time": "2023-05-24T05:35:58.344745",
   "environment_variables": {},
   "exception": true,
   "input_path": "__notebook__.ipynb",
   "output_path": "__notebook__.ipynb",
   "parameters": {},
   "start_time": "2023-05-24T05:35:42.333317",
   "version": "2.4.0"
  }
 },
 "nbformat": 4,
 "nbformat_minor": 5
}
